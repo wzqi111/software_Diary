{
  "nbformat": 4,
  "nbformat_minor": 0,
  "metadata": {
    "colab": {
      "name": "yolo4.ipynb",
      "provenance": [],
      "authorship_tag": "ABX9TyOl6H0uHRQYW/ymKAircBIH",
      "include_colab_link": true
    },
    "kernelspec": {
      "name": "python3",
      "display_name": "Python 3"
    },
    "language_info": {
      "name": "python"
    },
    "accelerator": "GPU"
  },
  "cells": [
    {
      "cell_type": "markdown",
      "metadata": {
        "id": "view-in-github",
        "colab_type": "text"
      },
      "source": [
        "<a href=\"https://colab.research.google.com/github/wzqi111/software_Diary/blob/master/yolo4.ipynb\" target=\"_parent\"><img src=\"https://colab.research.google.com/assets/colab-badge.svg\" alt=\"Open In Colab\"/></a>"
      ]
    },
    {
      "cell_type": "code",
      "metadata": {
        "id": "HsyGTS3XBlSv",
        "colab": {
          "base_uri": "https://localhost:8080/"
        },
        "outputId": "c1a51964-f33c-457c-bfb9-c96871d1d947"
      },
      "source": [
        "!pwd"
      ],
      "execution_count": 2,
      "outputs": [
        {
          "output_type": "stream",
          "text": [
            "/content\n"
          ],
          "name": "stdout"
        }
      ]
    },
    {
      "cell_type": "code",
      "metadata": {
        "colab": {
          "base_uri": "https://localhost:8080/"
        },
        "id": "trohaNZHIzB3",
        "outputId": "0f3c5b1b-72cd-4373-8323-afb30e1ff269"
      },
      "source": [
        "!python\n"
      ],
      "execution_count": null,
      "outputs": [
        {
          "output_type": "stream",
          "text": [
            "Python 3.7.10 (default, Feb 20 2021, 21:17:23) \n",
            "[GCC 7.5.0] on linux\n",
            "Type \"help\", \"copyright\", \"credits\" or \"license\" for more information.\n",
            ">>> \n",
            ">>> \n",
            "KeyboardInterrupt\n",
            ">>> \n",
            "KeyboardInterrupt\n",
            ">>> \n",
            "KeyboardInterrupt\n",
            ">>> ^C\n"
          ],
          "name": "stdout"
        }
      ]
    },
    {
      "cell_type": "code",
      "metadata": {
        "colab": {
          "base_uri": "https://localhost:8080/"
        },
        "id": "951x3Al0JyKM",
        "outputId": "d70b59b8-9b75-4874-c54a-0d1ce8d7c636"
      },
      "source": [
        "!nvidia-smi"
      ],
      "execution_count": null,
      "outputs": [
        {
          "output_type": "stream",
          "text": [
            "Sun Apr 11 13:38:21 2021       \n",
            "+-----------------------------------------------------------------------------+\n",
            "| NVIDIA-SMI 460.67       Driver Version: 460.32.03    CUDA Version: 11.2     |\n",
            "|-------------------------------+----------------------+----------------------+\n",
            "| GPU  Name        Persistence-M| Bus-Id        Disp.A | Volatile Uncorr. ECC |\n",
            "| Fan  Temp  Perf  Pwr:Usage/Cap|         Memory-Usage | GPU-Util  Compute M. |\n",
            "|                               |                      |               MIG M. |\n",
            "|===============================+======================+======================|\n",
            "|   0  Tesla T4            Off  | 00000000:00:04.0 Off |                    0 |\n",
            "| N/A   40C    P8     9W /  70W |      0MiB / 15109MiB |      0%      Default |\n",
            "|                               |                      |                  N/A |\n",
            "+-------------------------------+----------------------+----------------------+\n",
            "                                                                               \n",
            "+-----------------------------------------------------------------------------+\n",
            "| Processes:                                                                  |\n",
            "|  GPU   GI   CI        PID   Type   Process name                  GPU Memory |\n",
            "|        ID   ID                                                   Usage      |\n",
            "|=============================================================================|\n",
            "|  No running processes found                                                 |\n",
            "+-----------------------------------------------------------------------------+\n"
          ],
          "name": "stdout"
        }
      ]
    },
    {
      "cell_type": "code",
      "metadata": {
        "colab": {
          "base_uri": "https://localhost:8080/"
        },
        "id": "MBSKtDxiJ6zL",
        "outputId": "eefae78d-da61-4962-e3fc-5bd52d758bf3"
      },
      "source": [
        "import os\n",
        "from google.colab import drive\n",
        "drive.mount('/content/drive')"
      ],
      "execution_count": 8,
      "outputs": [
        {
          "output_type": "stream",
          "text": [
            "Mounted at /content/drive\n"
          ],
          "name": "stdout"
        }
      ]
    },
    {
      "cell_type": "code",
      "metadata": {
        "colab": {
          "base_uri": "https://localhost:8080/"
        },
        "id": "3r2YVcyuKodR",
        "outputId": "2bd45431-d6ea-4240-9189-17de89fb82c7"
      },
      "source": [
        "!pwd"
      ],
      "execution_count": 7,
      "outputs": [
        {
          "output_type": "stream",
          "text": [
            "/content\n"
          ],
          "name": "stdout"
        }
      ]
    },
    {
      "cell_type": "code",
      "metadata": {
        "colab": {
          "base_uri": "https://localhost:8080/"
        },
        "id": "E-zH8p8wKqns",
        "outputId": "ef1c1fd1-5bcb-4385-8e69-aa6043ec8d14"
      },
      "source": [
        "%cd /content/drive/"
      ],
      "execution_count": 9,
      "outputs": [
        {
          "output_type": "stream",
          "text": [
            "/content/drive\n"
          ],
          "name": "stdout"
        }
      ]
    },
    {
      "cell_type": "code",
      "metadata": {
        "colab": {
          "base_uri": "https://localhost:8080/"
        },
        "id": "DnmxvMGMK0Nk",
        "outputId": "c814345f-8012-410b-9323-f535268d25ee"
      },
      "source": [
        "%ls"
      ],
      "execution_count": null,
      "outputs": [
        {
          "output_type": "stream",
          "text": [
            "\u001b[0m\u001b[01;34mMyDrive\u001b[0m/\n"
          ],
          "name": "stdout"
        }
      ]
    },
    {
      "cell_type": "code",
      "metadata": {
        "colab": {
          "base_uri": "https://localhost:8080/"
        },
        "id": "GocA1KsyK6IA",
        "outputId": "c15302f5-3561-4060-8509-cf9250d3036d"
      },
      "source": [
        "%cd MyDrive/"
      ],
      "execution_count": 10,
      "outputs": [
        {
          "output_type": "stream",
          "text": [
            "/content/drive/MyDrive\n"
          ],
          "name": "stdout"
        }
      ]
    },
    {
      "cell_type": "code",
      "metadata": {
        "colab": {
          "base_uri": "https://localhost:8080/"
        },
        "id": "Bk3znuBDLF4F",
        "outputId": "d55a2bc0-e263-4b33-de7a-7c6e9f8f224d"
      },
      "source": [
        "%cd yolov4-keras-master/"
      ],
      "execution_count": 11,
      "outputs": [
        {
          "output_type": "stream",
          "text": [
            "/content/drive/MyDrive/yolov4-keras-master\n"
          ],
          "name": "stdout"
        }
      ]
    },
    {
      "cell_type": "code",
      "metadata": {
        "colab": {
          "base_uri": "https://localhost:8080/"
        },
        "id": "530YSD3ULKA6",
        "outputId": "201e9076-f05b-4117-a50d-8636a5ec8f48"
      },
      "source": [
        "%ls\n"
      ],
      "execution_count": null,
      "outputs": [
        {
          "output_type": "stream",
          "text": [
            "2007_test.txt   get_map.py             predict.py             voc_annotation.py\n",
            "2007_train.txt  \u001b[0m\u001b[01;34mimg\u001b[0m/                   README.md              \u001b[01;34mVOCdevkit\u001b[0m/\n",
            "2007_val.txt    kmeans_for_anchors.py  test.py                yolo4.ipynb\n",
            "\u001b[01;34mfont\u001b[0m/           LICENSE                train.py               yolo.py\n",
            "FPS_test.py     \u001b[01;34mlogs\u001b[0m/                  \u001b[01;34mutils\u001b[0m/                 常见问题汇总.md\n",
            "get_dr_txt.py   \u001b[01;34mmodel_data\u001b[0m/            video.py\n",
            "get_gt_txt.py   \u001b[01;34mnets\u001b[0m/                  vision_for_anchors.py\n"
          ],
          "name": "stdout"
        }
      ]
    },
    {
      "cell_type": "code",
      "metadata": {
        "colab": {
          "base_uri": "https://localhost:8080/"
        },
        "id": "kwYwlKshLeBG",
        "outputId": "6c8a60ad-a5b6-4bbe-8b64-5650c791bf61"
      },
      "source": [
        "%cd VOCdevkit/"
      ],
      "execution_count": null,
      "outputs": [
        {
          "output_type": "stream",
          "text": [
            "/content/drive/My Drive/yolov4-keras-master/VOCdevkit\n"
          ],
          "name": "stdout"
        }
      ]
    },
    {
      "cell_type": "code",
      "metadata": {
        "colab": {
          "base_uri": "https://localhost:8080/"
        },
        "id": "Wp1TN-skLkV8",
        "outputId": "b3ea09e4-4c2b-4b87-ab2b-4e2fadc75c88"
      },
      "source": [
        "%ls"
      ],
      "execution_count": null,
      "outputs": [
        {
          "output_type": "stream",
          "text": [
            "\u001b[0m\u001b[01;34mVOC2007\u001b[0m/\n"
          ],
          "name": "stdout"
        }
      ]
    },
    {
      "cell_type": "code",
      "metadata": {
        "colab": {
          "base_uri": "https://localhost:8080/"
        },
        "id": "WZP2md3ULoPc",
        "outputId": "24738dd9-7b9e-41ab-a837-5ca452b6738c"
      },
      "source": [
        "%cd VOC2007/"
      ],
      "execution_count": null,
      "outputs": [
        {
          "output_type": "stream",
          "text": [
            "/content/drive/My Drive/yolov4-keras-master/VOCdevkit/VOC2007\n"
          ],
          "name": "stdout"
        }
      ]
    },
    {
      "cell_type": "code",
      "metadata": {
        "colab": {
          "base_uri": "https://localhost:8080/"
        },
        "id": "yGACqARzLrfP",
        "outputId": "e9a4a401-6357-4355-8380-916e39cc4752"
      },
      "source": [
        "%cd-"
      ],
      "execution_count": null,
      "outputs": [
        {
          "output_type": "stream",
          "text": [
            "/content/drive/My Drive/yolov4-keras-master/VOCdevkit\n"
          ],
          "name": "stdout"
        }
      ]
    },
    {
      "cell_type": "code",
      "metadata": {
        "colab": {
          "base_uri": "https://localhost:8080/"
        },
        "id": "K90yaG3YMAZa",
        "outputId": "8a68ab36-3468-49b4-d6fe-36b49cf07687"
      },
      "source": [
        "%cd "
      ],
      "execution_count": null,
      "outputs": [
        {
          "output_type": "stream",
          "text": [
            "/content/drive/My Drive/yolov4-keras-master/VOCdevkit/VOC2007\n"
          ],
          "name": "stdout"
        }
      ]
    },
    {
      "cell_type": "code",
      "metadata": {
        "colab": {
          "base_uri": "https://localhost:8080/"
        },
        "id": "BZUbfAbTMLbR",
        "outputId": "e5cd175f-6b9c-4fbd-8aa3-113e07c6cba6"
      },
      "source": [
        "%ls"
      ],
      "execution_count": null,
      "outputs": [
        {
          "output_type": "stream",
          "text": [
            "2007_test.txt   get_map.py             predict.py             voc_annotation.py\n",
            "2007_train.txt  \u001b[0m\u001b[01;34mimg\u001b[0m/                   README.md              \u001b[01;34mVOCdevkit\u001b[0m/\n",
            "2007_val.txt    kmeans_for_anchors.py  test.py                yolo4.ipynb\n",
            "\u001b[01;34mfont\u001b[0m/           LICENSE                train.py               yolo.py\n",
            "FPS_test.py     \u001b[01;34mlogs\u001b[0m/                  \u001b[01;34mutils\u001b[0m/                 常见问题汇总.md\n",
            "get_dr_txt.py   \u001b[01;34mmodel_data\u001b[0m/            video.py\n",
            "get_gt_txt.py   \u001b[01;34mnets\u001b[0m/                  vision_for_anchors.py\n"
          ],
          "name": "stdout"
        }
      ]
    },
    {
      "cell_type": "code",
      "metadata": {
        "id": "lZ2GB5wQMRRZ"
      },
      "source": [
        "!python voc_annotation.py"
      ],
      "execution_count": null,
      "outputs": []
    },
    {
      "cell_type": "code",
      "metadata": {
        "id": "MgFxwt_iO6wr"
      },
      "source": [
        "!python voc_annotation.py"
      ],
      "execution_count": null,
      "outputs": []
    },
    {
      "cell_type": "code",
      "metadata": {
        "id": "ZEOjl77wQ8IS"
      },
      "source": [
        "!python voc_annotation.py"
      ],
      "execution_count": null,
      "outputs": []
    },
    {
      "cell_type": "code",
      "metadata": {
        "id": "WBoUjttTS2V6"
      },
      "source": [
        "!pip list"
      ],
      "execution_count": null,
      "outputs": []
    },
    {
      "cell_type": "code",
      "metadata": {
        "id": "WSTPhr87RPvp"
      },
      "source": [
        "!pip install -U keras==2.1.5 "
      ],
      "execution_count": null,
      "outputs": []
    },
    {
      "cell_type": "code",
      "metadata": {
        "id": "u4wBXVghR5nv"
      },
      "source": [
        "!pip install -U tensorflow-gpu==1.13.1"
      ],
      "execution_count": null,
      "outputs": []
    },
    {
      "cell_type": "code",
      "metadata": {
        "id": "gFxD4ZgdTTPY",
        "colab": {
          "base_uri": "https://localhost:8080/"
        },
        "outputId": "f2129568-cbb3-4af3-adea-d0e7f364a7bf"
      },
      "source": [
        "!pip uninstall tensorflow"
      ],
      "execution_count": 14,
      "outputs": [
        {
          "output_type": "stream",
          "text": [
            "Uninstalling tensorflow-2.4.1:\n",
            "  Would remove:\n",
            "    /usr/local/bin/estimator_ckpt_converter\n",
            "    /usr/local/bin/import_pb_to_tensorboard\n",
            "    /usr/local/bin/saved_model_cli\n",
            "    /usr/local/bin/tensorboard\n",
            "    /usr/local/bin/tf_upgrade_v2\n",
            "    /usr/local/bin/tflite_convert\n",
            "    /usr/local/bin/toco\n",
            "    /usr/local/bin/toco_from_protos\n",
            "    /usr/local/lib/python3.7/dist-packages/tensorflow-2.4.1.dist-info/*\n",
            "    /usr/local/lib/python3.7/dist-packages/tensorflow/*\n",
            "Proceed (y/n)? y\n",
            "  Successfully uninstalled tensorflow-2.4.1\n"
          ],
          "name": "stdout"
        }
      ]
    },
    {
      "cell_type": "code",
      "metadata": {
        "id": "pUGUE4f8UjhQ"
      },
      "source": [
        "!pip uninstall tensorflow-gpu"
      ],
      "execution_count": null,
      "outputs": []
    },
    {
      "cell_type": "code",
      "metadata": {
        "colab": {
          "base_uri": "https://localhost:8080/"
        },
        "id": "WsIWaksLRHcG",
        "outputId": "57263376-66dd-4c54-bb47-dd3b20c6aaa5"
      },
      "source": [
        "!python train.py"
      ],
      "execution_count": null,
      "outputs": [
        {
          "output_type": "stream",
          "text": [
            "Using TensorFlow backend.\n",
            "/usr/local/lib/python3.7/dist-packages/tensorflow/python/framework/dtypes.py:526: FutureWarning: Passing (type, 1) or '1type' as a synonym of type is deprecated; in a future version of numpy, it will be understood as (type, (1,)) / '(1,)type'.\n",
            "  _np_qint8 = np.dtype([(\"qint8\", np.int8, 1)])\n",
            "/usr/local/lib/python3.7/dist-packages/tensorflow/python/framework/dtypes.py:527: FutureWarning: Passing (type, 1) or '1type' as a synonym of type is deprecated; in a future version of numpy, it will be understood as (type, (1,)) / '(1,)type'.\n",
            "  _np_quint8 = np.dtype([(\"quint8\", np.uint8, 1)])\n",
            "/usr/local/lib/python3.7/dist-packages/tensorflow/python/framework/dtypes.py:528: FutureWarning: Passing (type, 1) or '1type' as a synonym of type is deprecated; in a future version of numpy, it will be understood as (type, (1,)) / '(1,)type'.\n",
            "  _np_qint16 = np.dtype([(\"qint16\", np.int16, 1)])\n",
            "/usr/local/lib/python3.7/dist-packages/tensorflow/python/framework/dtypes.py:529: FutureWarning: Passing (type, 1) or '1type' as a synonym of type is deprecated; in a future version of numpy, it will be understood as (type, (1,)) / '(1,)type'.\n",
            "  _np_quint16 = np.dtype([(\"quint16\", np.uint16, 1)])\n",
            "/usr/local/lib/python3.7/dist-packages/tensorflow/python/framework/dtypes.py:530: FutureWarning: Passing (type, 1) or '1type' as a synonym of type is deprecated; in a future version of numpy, it will be understood as (type, (1,)) / '(1,)type'.\n",
            "  _np_qint32 = np.dtype([(\"qint32\", np.int32, 1)])\n",
            "/usr/local/lib/python3.7/dist-packages/tensorflow/python/framework/dtypes.py:535: FutureWarning: Passing (type, 1) or '1type' as a synonym of type is deprecated; in a future version of numpy, it will be understood as (type, (1,)) / '(1,)type'.\n",
            "  np_resource = np.dtype([(\"resource\", np.ubyte, 1)])\n",
            "Create YOLOv4 model with 9 anchors and 4 classes.\n",
            "WARNING:tensorflow:From /usr/local/lib/python3.7/dist-packages/tensorflow/python/framework/op_def_library.py:263: colocate_with (from tensorflow.python.framework.ops) is deprecated and will be removed in a future version.\n",
            "Instructions for updating:\n",
            "Colocations handled automatically by placer.\n",
            "2021-04-12 04:22:45.367520: I tensorflow/core/platform/cpu_feature_guard.cc:141] Your CPU supports instructions that this TensorFlow binary was not compiled to use: AVX2 FMA\n",
            "2021-04-12 04:22:45.371303: I tensorflow/core/platform/profile_utils/cpu_utils.cc:94] CPU Frequency: 2199995000 Hz\n",
            "2021-04-12 04:22:45.371523: I tensorflow/compiler/xla/service/service.cc:150] XLA service 0x562e17d334a0 executing computations on platform Host. Devices:\n",
            "2021-04-12 04:22:45.371553: I tensorflow/compiler/xla/service/service.cc:158]   StreamExecutor device (0): <undefined>, <undefined>\n",
            "2021-04-12 04:22:45.553318: I tensorflow/stream_executor/cuda/cuda_gpu_executor.cc:998] successful NUMA node read from SysFS had negative value (-1), but there must be at least one NUMA node, so returning NUMA node zero\n",
            "2021-04-12 04:22:45.554510: I tensorflow/compiler/xla/service/service.cc:150] XLA service 0x562e17d331e0 executing computations on platform CUDA. Devices:\n",
            "2021-04-12 04:22:45.554550: I tensorflow/compiler/xla/service/service.cc:158]   StreamExecutor device (0): Tesla T4, Compute Capability 7.5\n",
            "2021-04-12 04:22:45.555694: I tensorflow/core/common_runtime/gpu/gpu_device.cc:1433] Found device 0 with properties: \n",
            "name: Tesla T4 major: 7 minor: 5 memoryClockRate(GHz): 1.59\n",
            "pciBusID: 0000:00:04.0\n",
            "totalMemory: 14.75GiB freeMemory: 14.66GiB\n",
            "2021-04-12 04:22:45.555731: I tensorflow/core/common_runtime/gpu/gpu_device.cc:1512] Adding visible gpu devices: 0\n",
            "2021-04-12 04:22:45.557390: I tensorflow/core/common_runtime/gpu/gpu_device.cc:984] Device interconnect StreamExecutor with strength 1 edge matrix:\n",
            "2021-04-12 04:22:45.557420: I tensorflow/core/common_runtime/gpu/gpu_device.cc:990]      0 \n",
            "2021-04-12 04:22:45.557447: I tensorflow/core/common_runtime/gpu/gpu_device.cc:1003] 0:   N \n",
            "2021-04-12 04:22:45.557546: W tensorflow/core/common_runtime/gpu/gpu_bfc_allocator.cc:42] Overriding allow_growth setting because the TF_FORCE_GPU_ALLOW_GROWTH environment variable is set. Original config value was 0.\n",
            "2021-04-12 04:22:45.557583: I tensorflow/core/common_runtime/gpu/gpu_device.cc:1115] Created TensorFlow device (/job:localhost/replica:0/task:0/device:GPU:0 with 14257 MB memory) -> physical GPU (device: 0, name: Tesla T4, pci bus id: 0000:00:04.0, compute capability: 7.5)\n",
            "Load weights model_data/yolo4_weight.h5.\n",
            "/usr/local/lib/python3.7/dist-packages/keras/engine/topology.py:3462: UserWarning: Skipping loading of weights for layer conv2d_110 due to mismatch in shape ((1, 1, 1024, 27) vs (75, 1024, 1, 1)).\n",
            "  weight_values[i].shape))\n",
            "/usr/local/lib/python3.7/dist-packages/keras/engine/topology.py:3462: UserWarning: Skipping loading of weights for layer conv2d_110 due to mismatch in shape ((27,) vs (75,)).\n",
            "  weight_values[i].shape))\n",
            "/usr/local/lib/python3.7/dist-packages/keras/engine/topology.py:3462: UserWarning: Skipping loading of weights for layer conv2d_102 due to mismatch in shape ((1, 1, 512, 27) vs (75, 512, 1, 1)).\n",
            "  weight_values[i].shape))\n",
            "/usr/local/lib/python3.7/dist-packages/keras/engine/topology.py:3462: UserWarning: Skipping loading of weights for layer conv2d_102 due to mismatch in shape ((27,) vs (75,)).\n",
            "  weight_values[i].shape))\n",
            "/usr/local/lib/python3.7/dist-packages/keras/engine/topology.py:3462: UserWarning: Skipping loading of weights for layer conv2d_94 due to mismatch in shape ((1, 1, 256, 27) vs (75, 256, 1, 1)).\n",
            "  weight_values[i].shape))\n",
            "/usr/local/lib/python3.7/dist-packages/keras/engine/topology.py:3462: UserWarning: Skipping loading of weights for layer conv2d_94 due to mismatch in shape ((27,) vs (75,)).\n",
            "  weight_values[i].shape))\n",
            "Freeze the first 249 layers of total 370 layers.\n",
            "Train on 2547 samples, val on 283 samples, with batch size 8.\n",
            "WARNING:tensorflow:From /usr/local/lib/python3.7/dist-packages/tensorflow/python/ops/math_ops.py:3066: to_int32 (from tensorflow.python.ops.math_ops) is deprecated and will be removed in a future version.\n",
            "Instructions for updating:\n",
            "Use tf.cast instead.\n",
            "Epoch 1/50\n",
            "2021-04-12 04:23:36.080886: I tensorflow/stream_executor/dso_loader.cc:152] successfully opened CUDA library libcublas.so.10.0 locally\n",
            "318/318 [==============================] - 668s 2s/step - loss: 300.4278 - val_loss: 71.8341\n",
            "Epoch 2/50\n",
            "318/318 [==============================] - 141s 444ms/step - loss: 48.3833 - val_loss: 62.4442\n",
            "Epoch 3/50\n",
            "318/318 [==============================] - 144s 454ms/step - loss: 40.7062 - val_loss: 63.8951\n",
            "Epoch 4/50\n",
            "318/318 [==============================] - 145s 456ms/step - loss: 36.4439 - val_loss: 49.9276\n",
            "Epoch 5/50\n",
            "318/318 [==============================] - 145s 456ms/step - loss: 34.5279 - val_loss: 50.0950\n",
            "Epoch 6/50\n",
            "318/318 [==============================] - 145s 456ms/step - loss: 32.8459 - val_loss: 48.9383\n",
            "Epoch 7/50\n",
            "318/318 [==============================] - 145s 456ms/step - loss: 31.8781 - val_loss: 51.7691\n",
            "Epoch 8/50\n",
            "318/318 [==============================] - 145s 456ms/step - loss: 31.4439 - val_loss: 50.6718\n",
            "Epoch 9/50\n",
            "318/318 [==============================] - 145s 456ms/step - loss: 30.0842 - val_loss: 46.9713\n",
            "Epoch 10/50\n",
            "318/318 [==============================] - 145s 456ms/step - loss: 29.5860 - val_loss: 48.5746\n",
            "Epoch 11/50\n",
            "318/318 [==============================] - 145s 456ms/step - loss: 29.3372 - val_loss: 53.1468\n",
            "Epoch 12/50\n",
            "318/318 [==============================] - 145s 456ms/step - loss: 29.2150 - val_loss: 52.4808\n",
            "Epoch 13/50\n",
            "318/318 [==============================] - 145s 455ms/step - loss: 28.8925 - val_loss: 47.9494\n",
            "\n",
            "Epoch 00013: ReduceLROnPlateau reducing learning rate to 0.0005000000237487257.\n",
            "Epoch 14/50\n",
            "318/318 [==============================] - 145s 456ms/step - loss: 27.0118 - val_loss: 49.3090\n",
            "Epoch 15/50\n",
            "318/318 [==============================] - 145s 456ms/step - loss: 26.9861 - val_loss: 47.8275\n",
            "Epoch 16/50\n",
            "318/318 [==============================] - 145s 457ms/step - loss: 26.4169 - val_loss: 52.9768\n",
            "\n",
            "Epoch 00016: ReduceLROnPlateau reducing learning rate to 0.0002500000118743628.\n",
            "Epoch 17/50\n",
            "318/318 [==============================] - 145s 456ms/step - loss: 25.8972 - val_loss: 50.2169\n",
            "Epoch 18/50\n",
            "318/318 [==============================] - 145s 457ms/step - loss: 25.7986 - val_loss: 47.0315\n",
            "Epoch 19/50\n",
            "318/318 [==============================] - 145s 455ms/step - loss: 25.0072 - val_loss: 48.8148\n",
            "\n",
            "Epoch 00019: ReduceLROnPlateau reducing learning rate to 0.0001250000059371814.\n",
            "Epoch 00019: early stopping\n",
            "Train on 2547 samples, val on 283 samples, with batch size 2.\n",
            "Epoch 51/100\n",
            "1273/1273 [==============================] - 403s 317ms/step - loss: 27.0411 - val_loss: 26.2154\n",
            "Epoch 52/100\n",
            "1273/1273 [==============================] - 393s 308ms/step - loss: 25.4178 - val_loss: 26.9241\n",
            "Epoch 53/100\n",
            "1273/1273 [==============================] - 392s 308ms/step - loss: 24.6648 - val_loss: 28.5217\n",
            "Epoch 54/100\n",
            "1273/1273 [==============================] - 389s 306ms/step - loss: 24.3191 - val_loss: 25.0957\n",
            "Epoch 55/100\n",
            "1273/1273 [==============================] - 389s 305ms/step - loss: 24.0116 - val_loss: 25.3207\n",
            "Epoch 56/100\n",
            "1273/1273 [==============================] - 389s 306ms/step - loss: 23.3739 - val_loss: 25.4073\n",
            "Epoch 57/100\n",
            "1273/1273 [==============================] - 389s 306ms/step - loss: 23.1669 - val_loss: 24.3648\n",
            "Epoch 58/100\n",
            "1273/1273 [==============================] - 389s 305ms/step - loss: 22.9448 - val_loss: 26.6269\n",
            "Epoch 59/100\n",
            "1273/1273 [==============================] - 389s 306ms/step - loss: 22.6328 - val_loss: 24.4956\n",
            "Epoch 60/100\n",
            "1273/1273 [==============================] - 390s 306ms/step - loss: 22.3440 - val_loss: 24.3746\n",
            "Epoch 61/100\n",
            "1273/1273 [==============================] - 389s 306ms/step - loss: 21.9857 - val_loss: 22.8641\n",
            "Epoch 62/100\n",
            "1273/1273 [==============================] - 393s 309ms/step - loss: 21.9129 - val_loss: 23.8872\n",
            "Epoch 63/100\n",
            "1273/1273 [==============================] - 392s 308ms/step - loss: 21.6845 - val_loss: 23.2660\n",
            "Epoch 64/100\n",
            "1273/1273 [==============================] - 392s 308ms/step - loss: 21.3819 - val_loss: 22.9477\n",
            "Epoch 65/100\n",
            "1273/1273 [==============================] - 393s 308ms/step - loss: 20.9916 - val_loss: 23.5102\n",
            "\n",
            "Epoch 00065: ReduceLROnPlateau reducing learning rate to 4.999999873689376e-05.\n",
            "Epoch 66/100\n",
            "1273/1273 [==============================] - 393s 308ms/step - loss: 20.3138 - val_loss: 22.5307\n",
            "Epoch 67/100\n",
            "1273/1273 [==============================] - 392s 308ms/step - loss: 20.2444 - val_loss: 23.2889\n",
            "Epoch 68/100\n",
            "1273/1273 [==============================] - 392s 308ms/step - loss: 20.2880 - val_loss: 23.1468\n",
            "Epoch 69/100\n",
            "1273/1273 [==============================] - 392s 308ms/step - loss: 19.7657 - val_loss: 23.1846\n",
            "Epoch 70/100\n",
            "1273/1273 [==============================] - 392s 308ms/step - loss: 19.8628 - val_loss: 21.9998\n",
            "Epoch 71/100\n",
            "1273/1273 [==============================] - 392s 308ms/step - loss: 19.3300 - val_loss: 21.9587\n",
            "Epoch 72/100\n",
            " 622/1273 [=============>................] - ETA: 3:14 - loss: 19.8759"
          ],
          "name": "stdout"
        }
      ]
    },
    {
      "cell_type": "code",
      "metadata": {
        "id": "keJbyFnkTQB9"
      },
      "source": [
        ""
      ],
      "execution_count": null,
      "outputs": []
    }
  ]
}